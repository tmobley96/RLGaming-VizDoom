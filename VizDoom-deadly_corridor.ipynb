{
 "cells": [
  {
   "cell_type": "markdown",
   "id": "68526e56-d693-4876-aea9-a8075c8f5327",
   "metadata": {},
   "source": [
    "# 1. Getting VizDoom Up and Running"
   ]
  },
  {
   "cell_type": "code",
   "execution_count": null,
   "id": "9c764084-f50c-4452-8809-0323f18c638e",
   "metadata": {
    "scrolled": true
   },
   "outputs": [],
   "source": [
    "!pip install vizdoom"
   ]
  },
  {
   "cell_type": "code",
   "execution_count": null,
   "id": "ce221aa7-6c59-40e6-a252-d57cb7b93cd7",
   "metadata": {},
   "outputs": [],
   "source": [
    "!cd github & git clone https://github.com/Farama-Foundation/ViZDoom"
   ]
  },
  {
   "cell_type": "code",
   "execution_count": 9,
   "id": "ed19d376-933d-42db-a03e-82da5623288a",
   "metadata": {},
   "outputs": [],
   "source": [
    "#Import vizdoom for game env\n",
    "from vizdoom import *\n",
    "#Import random for action sampling\n",
    "import random\n",
    "#Import time for sleeping b/w frames\n",
    "import time\n",
    "#Import numpy for identity matrix\n",
    "import numpy as np"
   ]
  },
  {
   "cell_type": "code",
   "execution_count": 2,
   "id": "5ce88723-5f6e-434b-9c7d-7b162f998e4a",
   "metadata": {},
   "outputs": [],
   "source": [
    "#Setup game\n",
    "game = DoomGame()\n",
    "game.load_config('github/VizDoom/scenarios/deadly_corridor.cfg')\n",
    "game.init()"
   ]
  },
  {
   "cell_type": "code",
   "execution_count": 3,
   "id": "4b4b01f9-4816-497c-a8f4-c120d9333af0",
   "metadata": {},
   "outputs": [],
   "source": [
    "#This is the set of actions we can take in the environment\n",
    "actions = np.identity(7, dtype=np.uint8)"
   ]
  },
  {
   "cell_type": "code",
   "execution_count": null,
   "id": "38e206d8-856b-4e23-82b3-a2320c0309c0",
   "metadata": {},
   "outputs": [],
   "source": [
    "state = game.get_state()"
   ]
  },
  {
   "cell_type": "code",
   "execution_count": null,
   "id": "89c0ad42-8111-4487-ba57-d978cce26a32",
   "metadata": {},
   "outputs": [],
   "source": [
    "state.game_variables"
   ]
  },
  {
   "cell_type": "code",
   "execution_count": null,
   "id": "6e241e59-1a6e-41b4-a473-f0caa8040f42",
   "metadata": {},
   "outputs": [],
   "source": [
    "#Loop thorugh episodes\n",
    "episodes = 10\n",
    "for episode in range(episodes):\n",
    "    #Create a new episode or game\n",
    "    game.new_episode()\n",
    "    #Checking hte game isn't finish\n",
    "    while not game.is_episode_finished():\n",
    "        #Get the game state\n",
    "        state = game.get_state()\n",
    "        #Get the game image\n",
    "        img = state.screen_buffer\n",
    "        #Get the game variables - ammo\n",
    "        info = state.game_variables\n",
    "        #Take an action\n",
    "        reward = game.make_action(random.choice(actions),4)\n",
    "        #Print reward\n",
    "        print('Reward:', reward)\n",
    "        time.sleep(0.02)\n",
    "    print('Result:', game.get_total_reward())\n",
    "    time.sleep(2)"
   ]
  },
  {
   "cell_type": "code",
   "execution_count": null,
   "id": "8bdf8d76-61ab-4a15-a53c-da4ded33bbfc",
   "metadata": {},
   "outputs": [],
   "source": [
    "game.close()\n"
   ]
  },
  {
   "cell_type": "markdown",
   "id": "6b8438f2-92e5-44cc-9db7-695a52e6fe74",
   "metadata": {},
   "source": [
    "# 2. Converting it to a Gym Environment"
   ]
  },
  {
   "cell_type": "code",
   "execution_count": null,
   "id": "3aba2bf1-4be2-4033-b417-92f0f8f280b2",
   "metadata": {},
   "outputs": [],
   "source": [
    "!pip install gym"
   ]
  },
  {
   "cell_type": "code",
   "execution_count": 10,
   "id": "65a8ff8c-4fd2-4889-959c-91ddbd9b4fbb",
   "metadata": {},
   "outputs": [],
   "source": [
    "#Import environment base class from OpenAI Gym\n",
    "import gymnasium as gym\n",
    "\n",
    "#Import gym spaces\n",
    "from gymnasium.spaces import Discrete, Box\n",
    "#Import opencv\n",
    "import cv2\n",
    "#Import vizdoom for game env\n",
    "from vizdoom import *\n",
    "#Import random for action sampling\n",
    "import random\n",
    "#Import time for sleeping b/w frames\n",
    "import time\n",
    "#Import numpy for identity matrix\n",
    "import numpy as np"
   ]
  },
  {
   "cell_type": "code",
   "execution_count": 11,
   "id": "817742f2-7b69-4b03-b63d-be107484cdea",
   "metadata": {},
   "outputs": [],
   "source": [
    "#Create Vizdoom OpenAI Gym Environment\n",
    "class VizDoomGym(gym.Env):\n",
    "    #Function that is called when we start the env\n",
    "    def __init__(self, render=False, config='github/VizDoom/scenarios/deadly_corridor.cfg'):\n",
    "        #Inherit from Env\n",
    "        super().__init__()\n",
    "        #Setup the game\n",
    "        self.game = DoomGame()\n",
    "        self.game.load_config(config)\n",
    "\n",
    "        #Render frame Logic\n",
    "        if render == False:\n",
    "            self.game.set_window_visible(False)\n",
    "        else:\n",
    "            self.game.set_window_visible(True)\n",
    "       \n",
    "        #Start the game\n",
    "        self.game.init() \n",
    "       \n",
    "        #Create the action space and observation space\n",
    "        self.observation_space = Box(low=0, high=255, shape=(100,160,1), dtype=np.uint8)\n",
    "        self.action_space = Discrete(3)\n",
    "\n",
    "        #Game variables: HEALTH DAMAGE_TAKEN HITCOUNT SELECTED_WEAPON_AMMO\n",
    "        self.damage_taken = 0\n",
    "        self.hitcount = 0\n",
    "        self.ammo = 60\n",
    "        \n",
    "    #This is how we take a step in the env    \n",
    "    def step(self, action):\n",
    "        #Specify action and take step\n",
    "        actions = np.identity(3, dtype=np.uint8)\n",
    "        movement_reward = self.game.make_action(actions[action], 4)\n",
    "       \n",
    "        reward = 0\n",
    "        #Get all the other stuff we need to reutrn\n",
    "        if self.game.get_state():\n",
    "            state = self.game.get_state().screen_buffer\n",
    "            state = self.grayscale(state)\n",
    "            \n",
    "            #Reward shaping\n",
    "            game_variables = self.game.get_state().game_variables\n",
    "            health, damage_taken, hitcount, ammo = game_variables\n",
    "\n",
    "            #Calculate reward deltas\n",
    "            damage_taken_delta = -damage_taken + self.damage_taken\n",
    "            self.damage_taken = damage_taken\n",
    "            hitcount_delta = hitcount - self.hitcount\n",
    "            self.hitcount = hitcount\n",
    "            ammo_delta = ammo - self.ammo\n",
    "            self.ammo = ammo\n",
    "\n",
    "            reward = movement_reward + damage_taken_delta*10 + hitcount_delta*200 + ammo_delta*5          \n",
    "            info = ammo\n",
    "        else:\n",
    "            state = np.zeros(self.observation_space.shape)\n",
    "            info = 0\n",
    "\n",
    "        info = {\"info\":info}\n",
    "        done = self.game.is_episode_finished()\n",
    "        truncated = False\n",
    "\n",
    "        return state, reward, done, truncated, info\n",
    "        \n",
    "    #Define how to render the game or environment\n",
    "    def render():\n",
    "        pass\n",
    "    #What happen when we start a new game\n",
    "    def reset(self, seed=None):\n",
    "        self.game.new_episode()\n",
    "        state = self.game.get_state().screen_buffer\n",
    "        ammo = self.game.get_state().game_variables[0]\n",
    "        info = {\"ammo\":ammo}\n",
    "        return self.grayscale(state), info\n",
    "        \n",
    "    #Grayscale the game frame and resize it\n",
    "    def grayscale(self, observation):\n",
    "        gray = cv2.cvtColor(np.moveaxis(observation, 0, -1), cv2.COLOR_BGR2GRAY)\n",
    "        resize = cv2.resize(gray, (160,100), interpolation=cv2.INTER_CUBIC)\n",
    "        state = np.reshape(resize, (100,160,1))\n",
    "        return state\n",
    "        \n",
    "    #Call to close down the game\n",
    "    def close(self):\n",
    "        self.game.close()"
   ]
  },
  {
   "cell_type": "code",
   "execution_count": 10,
   "id": "b5145e1c-0124-4d3f-8f59-1d56a365a844",
   "metadata": {},
   "outputs": [],
   "source": [
    "env = VizDoomGym(render=True)"
   ]
  },
  {
   "cell_type": "code",
   "execution_count": null,
   "id": "4c75a6f7-a571-4c49-bd25-0763761b9ec2",
   "metadata": {},
   "outputs": [],
   "source": []
  },
  {
   "cell_type": "code",
   "execution_count": null,
   "id": "992824e2-d917-4ef8-9bb7-16b0136c1050",
   "metadata": {},
   "outputs": [],
   "source": [
    "state = env.reset()"
   ]
  },
  {
   "cell_type": "code",
   "execution_count": null,
   "id": "f33e3388-012e-459c-9223-58bad4ea03af",
   "metadata": {},
   "outputs": [],
   "source": [
    "env.close()"
   ]
  },
  {
   "cell_type": "code",
   "execution_count": 7,
   "id": "70e1476d-5ae4-480c-9530-26b61636688e",
   "metadata": {},
   "outputs": [],
   "source": [
    "#Import Environment checker\n",
    "from stable_baselines3.common import env_checker"
   ]
  },
  {
   "cell_type": "code",
   "execution_count": 11,
   "id": "b07386df-cf79-4d91-9bf3-a9077e27eccb",
   "metadata": {},
   "outputs": [],
   "source": [
    "env_checker.check_env(env)"
   ]
  },
  {
   "cell_type": "markdown",
   "id": "6526ccfb-1ccb-468a-9826-6fd748bc383f",
   "metadata": {
    "jp-MarkdownHeadingCollapsed": true
   },
   "source": [
    "# 3. View State"
   ]
  },
  {
   "cell_type": "code",
   "execution_count": null,
   "id": "3651d755-f043-40a7-9e66-a153bafd5e73",
   "metadata": {},
   "outputs": [],
   "source": [
    "!pip install matplotlib\n"
   ]
  },
  {
   "cell_type": "code",
   "execution_count": 8,
   "id": "e758daa6-38ca-4b18-a3ae-ddc49d227531",
   "metadata": {},
   "outputs": [],
   "source": [
    "from matplotlib import pyplot as plt"
   ]
  },
  {
   "cell_type": "code",
   "execution_count": null,
   "id": "c3344ab5-be8e-4a63-a2c4-49495a28acd6",
   "metadata": {},
   "outputs": [],
   "source": []
  },
  {
   "cell_type": "code",
   "execution_count": null,
   "id": "38578a54-efd6-4e89-a979-7fa1dcca69a7",
   "metadata": {},
   "outputs": [
    {
     "data": {
      "text/plain": [
       "<matplotlib.image.AxesImage at 0x15d7e5551b0>"
      ]
     },
     "execution_count": 13,
     "metadata": {},
     "output_type": "execute_result"
    }
   ],
   "source": [
    "grayscale_image, info = env.reset()\n",
    "plt.imshow(grayscale_image.squeeze(), cmap='gray')\n"
   ]
  },
  {
   "cell_type": "code",
   "execution_count": null,
   "id": "8874f9da-2f99-4c0c-a69b-b30c5ee7a200",
   "metadata": {},
   "outputs": [],
   "source": [
    "env.close()"
   ]
  },
  {
   "cell_type": "code",
   "execution_count": null,
   "id": "d0ca1151-994f-4050-9641-dc6b8a9f50a8",
   "metadata": {},
   "outputs": [],
   "source": []
  },
  {
   "cell_type": "markdown",
   "id": "5926df6f-fef1-465a-87a7-fa1359347c02",
   "metadata": {
    "jp-MarkdownHeadingCollapsed": true
   },
   "source": [
    "# 4. Setup Callback"
   ]
  },
  {
   "cell_type": "code",
   "execution_count": null,
   "id": "6c28a2c3-7f2f-4368-a9d6-28660a2f4e55",
   "metadata": {},
   "outputs": [],
   "source": [
    "!pip install torch torchvision torchaudio --index-url https://download.pytorch.org/whl/cu121"
   ]
  },
  {
   "cell_type": "code",
   "execution_count": null,
   "id": "8cec7cdb-1803-4012-92b0-f7761e784ae7",
   "metadata": {},
   "outputs": [],
   "source": [
    "!pip install stable-baselines3[extra]"
   ]
  },
  {
   "cell_type": "code",
   "execution_count": null,
   "id": "2e0646e1-1587-45f0-ab4a-f57bac0d82ee",
   "metadata": {},
   "outputs": [],
   "source": []
  },
  {
   "cell_type": "code",
   "execution_count": 12,
   "id": "b7501828-b484-4ddb-a186-b22e4a328d30",
   "metadata": {},
   "outputs": [],
   "source": [
    "#Import os for file nav\n",
    "import os\n",
    "#Import callback class from sb3\n",
    "from stable_baselines3.common.callbacks import BaseCallback"
   ]
  },
  {
   "cell_type": "code",
   "execution_count": 13,
   "id": "349af317-5a04-4491-80de-68cf2e89955e",
   "metadata": {},
   "outputs": [],
   "source": [
    "class TrainAndLoggingCallback(BaseCallback):\n",
    "\n",
    "    def __init__(self, check_freq, save_path, verbose=1):\n",
    "        super(TrainAndLoggingCallback, self).__init__(verbose)\n",
    "        self.check_freq = check_freq\n",
    "        self.save_path = save_path\n",
    "\n",
    "    def _init_callback(self):\n",
    "        if self.save_path is not None:\n",
    "            os.makedirs(self.save_path, exist_ok=True)\n",
    "\n",
    "    def _on_step(self):\n",
    "        if self.n_calls % self.check_freq == 0:\n",
    "            model_path = os.path.join(self.save_path, 'best_model_{}'.format(self.n_calls))\n",
    "            self.model.save(model_path)\n",
    "\n",
    "        return True"
   ]
  },
  {
   "cell_type": "code",
   "execution_count": 14,
   "id": "0e642c6a-51cb-41a2-9580-35ce1157aeb1",
   "metadata": {},
   "outputs": [],
   "source": [
    "CHECKPOINT_DIR = './train/train_corridor'\n",
    "LOG_DIR = './logs/log_corridor'"
   ]
  },
  {
   "cell_type": "code",
   "execution_count": 15,
   "id": "bc73a347-6f57-4a01-844a-2d2d0460e39f",
   "metadata": {},
   "outputs": [],
   "source": [
    "callback = TrainAndLoggingCallback(check_freq=10000, save_path=CHECKPOINT_DIR)"
   ]
  },
  {
   "cell_type": "markdown",
   "id": "5f163974-da4b-418b-840c-71dd66695a0d",
   "metadata": {
    "jp-MarkdownHeadingCollapsed": true
   },
   "source": [
    "# 5. Train Model Using Curriculum"
   ]
  },
  {
   "cell_type": "code",
   "execution_count": 22,
   "id": "8412032b-c826-49d3-b73a-0db39d9769f0",
   "metadata": {},
   "outputs": [],
   "source": [
    "#import PPO for training\n",
    "from stable_baselines3 import PPO"
   ]
  },
  {
   "cell_type": "code",
   "execution_count": 23,
   "id": "75712c01-b31d-4f02-8165-16350e507872",
   "metadata": {},
   "outputs": [],
   "source": [
    "#Non rendered environment\n",
    "env = VizDoomGym(config='github/VizDoom/scenarios/deadly_corridor_s1.cfg')"
   ]
  },
  {
   "cell_type": "code",
   "execution_count": null,
   "id": "aa8dc9fa-27a5-4d9a-bbd8-ff930839aa94",
   "metadata": {
    "scrolled": true
   },
   "outputs": [],
   "source": [
    "env.close()\n"
   ]
  },
  {
   "cell_type": "code",
   "execution_count": 24,
   "id": "01752088-5a52-4874-87ac-e3de421fcd7b",
   "metadata": {},
   "outputs": [
    {
     "name": "stdout",
     "output_type": "stream",
     "text": [
      "Using cuda device\n",
      "Wrapping the env with a `Monitor` wrapper\n",
      "Wrapping the env in a DummyVecEnv.\n",
      "Wrapping the env in a VecTransposeImage.\n"
     ]
    }
   ],
   "source": [
    "model = PPO('CnnPolicy', env, tensorboard_log=LOG_DIR, verbose=1, learning_rate=0.00001, n_steps=8192, clip_range=.1, gamma=.95, gae_lambda=.9)"
   ]
  },
  {
   "cell_type": "code",
   "execution_count": null,
   "id": "24c62634-63f9-4f12-9a99-f5dd35ce4fc6",
   "metadata": {},
   "outputs": [],
   "source": [
    "model.learn(total_timesteps=400000, callback=callback)"
   ]
  },
  {
   "cell_type": "code",
   "execution_count": null,
   "id": "1b6f325b-734c-4772-a67d-3604ea01b63f",
   "metadata": {},
   "outputs": [],
   "source": [
    "model.load('./train/train_corridor/best_model_80000.zip')"
   ]
  },
  {
   "cell_type": "code",
   "execution_count": null,
   "id": "f4c1ceb0-b4d6-4207-b2d6-33e69c4c9cc4",
   "metadata": {},
   "outputs": [],
   "source": [
    "env = VizDoomGym(config='github/VizDoom/scenarios/deadly_corridor_s2.cfg')\n",
    "model.set_env(env)\n",
    "model.learn(total_timesteps=400000, callback=callback)"
   ]
  },
  {
   "cell_type": "code",
   "execution_count": null,
   "id": "c7412f31-0381-4f1d-ad99-5a471c38484a",
   "metadata": {},
   "outputs": [],
   "source": [
    "env = VizDoomGym(config='github/VizDoom/scenarios/deadly_corridor_s3.cfg')\n",
    "model.set_env(env)\n",
    "model.learn(total_timesteps=400000, callback=callback)"
   ]
  },
  {
   "cell_type": "code",
   "execution_count": null,
   "id": "82bc2379-9fb6-4c13-9bed-0d69453dc085",
   "metadata": {},
   "outputs": [],
   "source": [
    "env = VizDoomGym(config='github/VizDoom/scenarios/deadly_corridor_s4.cfg')\n",
    "model.set_env(env)\n",
    "model.learn(total_timesteps=400000, callback=callback)"
   ]
  },
  {
   "cell_type": "code",
   "execution_count": null,
   "id": "8c806ca6-7d3d-4bc2-90be-ab43a93525bd",
   "metadata": {},
   "outputs": [],
   "source": [
    "env = VizDoomGym(config='github/VizDoom/scenarios/deadly_corridor_s5.cfg')\n",
    "model.set_env(env)\n",
    "model.learn(total_timesteps=400000, callback=callback)"
   ]
  },
  {
   "cell_type": "code",
   "execution_count": null,
   "id": "ed80aa0d-e0d8-4598-9266-d00a8d0b5072",
   "metadata": {},
   "outputs": [],
   "source": []
  },
  {
   "cell_type": "markdown",
   "id": "21b56e44-cf2b-4a41-b7de-30bfc6a760aa",
   "metadata": {
    "jp-MarkdownHeadingCollapsed": true
   },
   "source": [
    "# 6. Test the Model"
   ]
  },
  {
   "cell_type": "code",
   "execution_count": null,
   "id": "4281a02f-64a1-4016-b875-5e873b3add48",
   "metadata": {},
   "outputs": [],
   "source": [
    "#Import eval policy to test agent\n",
    "from stable_baselines3.common.evaluation import evaluate_policy"
   ]
  },
  {
   "cell_type": "code",
   "execution_count": null,
   "id": "8a10db05-ff39-4f1d-b865-884a66b72215",
   "metadata": {},
   "outputs": [],
   "source": [
    "#Reload model from disc\n",
    "model = PPO.load('./train/train_defend/best_model_100000')"
   ]
  },
  {
   "cell_type": "code",
   "execution_count": null,
   "id": "2f206cd1-8f7a-485d-9d19-63577a759eaa",
   "metadata": {},
   "outputs": [],
   "source": [
    "#Create rendered environment\n",
    "env = VizDoomGym(render=True)"
   ]
  },
  {
   "cell_type": "code",
   "execution_count": null,
   "id": "3fd29a44-a7bb-427a-b39e-b62a5acacb7e",
   "metadata": {},
   "outputs": [],
   "source": [
    "#Evaluate mean reward for 10 games\n",
    "mean_reward, _ = evaluate_policy(model, env, n_eval_episodes=300)"
   ]
  },
  {
   "cell_type": "code",
   "execution_count": null,
   "id": "9d7d3ed5-2dc8-491e-959e-6248ec1ed5c0",
   "metadata": {},
   "outputs": [],
   "source": [
    "mean_reward"
   ]
  },
  {
   "cell_type": "code",
   "execution_count": null,
   "id": "0de7c348-264d-4192-8dde-c65b835b289e",
   "metadata": {},
   "outputs": [],
   "source": [
    "print(env.reset())\n"
   ]
  },
  {
   "cell_type": "code",
   "execution_count": null,
   "id": "18239b40-530a-422d-addf-f6ce6dedd1b9",
   "metadata": {},
   "outputs": [],
   "source": [
    "obs = env.reset()\n",
    "print(type(obs))\n",
    "if isinstance(obs, tuple):\n",
    "    for i, item in enumerate(obs):\n",
    "        print(f\"Item {i} type: {type(item)}, shape: {getattr(item, 'shape', 'N/A')}\")\n",
    "else:\n",
    "    print(f\"Observation shape: {obs.shape}\")\n"
   ]
  },
  {
   "cell_type": "code",
   "execution_count": null,
   "id": "37e9477e-7093-4d9e-bec4-67a18d917059",
   "metadata": {},
   "outputs": [],
   "source": [
    "for episode in range(5):\n",
    "    obs, info = env.reset()\n",
    "    done = False\n",
    "    total_reward = 0\n",
    "    while not done:\n",
    "        action, _ = model.predict(obs)\n",
    "        obs, reward, done, _, info = env.step(action)\n",
    "        time.sleep(0.05)\n",
    "        total_reward += reward\n",
    "    print('Total Reward for episode {} is {}'.format(total_reward, episode))\n",
    "    time.sleep(2)"
   ]
  },
  {
   "cell_type": "code",
   "execution_count": null,
   "id": "e6a3fb57-2b79-4879-ba7a-6da41a1281bb",
   "metadata": {},
   "outputs": [],
   "source": []
  }
 ],
 "metadata": {
  "kernelspec": {
   "display_name": "Python 3 (ipykernel)",
   "language": "python",
   "name": "python3"
  },
  "language_info": {
   "codemirror_mode": {
    "name": "ipython",
    "version": 3
   },
   "file_extension": ".py",
   "mimetype": "text/x-python",
   "name": "python",
   "nbconvert_exporter": "python",
   "pygments_lexer": "ipython3",
   "version": "3.10.9"
  }
 },
 "nbformat": 4,
 "nbformat_minor": 5
}
